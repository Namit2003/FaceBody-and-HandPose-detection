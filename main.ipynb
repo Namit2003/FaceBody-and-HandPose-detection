{
 "cells": [
  {
   "cell_type": "code",
   "execution_count": 1,
   "metadata": {},
   "outputs": [],
   "source": [
    "import mediapipe as mp\n",
    "import cv2"
   ]
  },
  {
   "cell_type": "code",
   "execution_count": 2,
   "metadata": {},
   "outputs": [],
   "source": [
    "mp_drwaing = mp.solutions.drawing_utils\n",
    "mp_holistic = mp.solutions.holistic"
   ]
  },
  {
   "cell_type": "code",
   "execution_count": null,
   "metadata": {},
   "outputs": [],
   "source": [
    "cap = cv2.VideoCapture(0)\n",
    "\n",
    "while cap.isOpened():\n",
    "  ret, frame = cap.read()\n",
    "  cv2.imshow(\"Raw webcam feed\", frame)\n",
    "\n",
    "  if cv2.waitKey(10) & 0xFF == ord('q'):\n",
    "    break\n",
    "\n",
    "cap.release()\n",
    "cv2.destroyAllWindows()"
   ]
  },
  {
   "cell_type": "code",
   "execution_count": null,
   "metadata": {},
   "outputs": [],
   "source": [
    "cap.release()\n",
    "cv2.destroyAllWindows()"
   ]
  },
  {
   "cell_type": "code",
   "execution_count": 9,
   "metadata": {},
   "outputs": [],
   "source": [
    "cap = cv2.VideoCapture(0)\n",
    "\n",
    "with mp_holistic.Holistic(min_detection_confidence=0.5, min_tracking_confidence=0.5) as holistic:\n",
    "  while cap.isOpened():\n",
    "    ret, frame = cap.read()\n",
    "\n",
    "    # Recolor feed\n",
    "    image = cv2.cvtColor(frame, cv2.COLOR_BGR2RGB)\n",
    "    # Make detections\n",
    "    result = holistic.process(image)\n",
    "    # print(result.face_landmarks)\n",
    "\n",
    "    # Recolor image back to BGR for rendering\n",
    "    image = cv2.cvtColor(frame, cv2.COLOR_RGB2BGR)\n",
    "\n",
    "    # Draw facial landmarks\n",
    "    mp_drwaing.draw_landmarks(image, result.face_landmarks, mp_holistic.FACEMESH_TESSELATION,\n",
    "                              mp_drwaing.DrawingSpec(color=(80,110,10), thickness=1, circle_radius=1),\n",
    "                              mp_drwaing.DrawingSpec(color=(80,255,121), thickness=1, circle_radius=1)\n",
    "                              )\n",
    "    # Draw right hand landmarks\n",
    "    mp_drwaing.draw_landmarks(image, result.right_hand_landmarks, mp_holistic.HAND_CONNECTIONS,\n",
    "                              mp_drwaing.DrawingSpec(color=(80,22,10), thickness=2, circle_radius=4),\n",
    "                              mp_drwaing.DrawingSpec(color=(80,44,121), thickness=2, circle_radius=2)\n",
    "                              )\n",
    "    # Draw left hand landmarks\n",
    "    mp_drwaing.draw_landmarks(image, result.left_hand_landmarks, mp_holistic.HAND_CONNECTIONS,\n",
    "                              mp_drwaing.DrawingSpec(color=(121,22,76), thickness=2, circle_radius=4),\n",
    "                              mp_drwaing.DrawingSpec(color=(121,44,250), thickness=2, circle_radius=2)\n",
    "                              )\n",
    "    # Draw pose landmarks\n",
    "    mp_drwaing.draw_landmarks(image, result.pose_landmarks, mp_holistic.POSE_CONNECTIONS,\n",
    "                              mp_drwaing.DrawingSpec(color=(245,117,66), thickness=2, circle_radius=4),\n",
    "                              mp_drwaing.DrawingSpec(color=(245,66,230), thickness=2, circle_radius=2)\n",
    "                              )\n",
    "\n",
    "    cv2.imshow(\"Raw webcam feed\", image)\n",
    "\n",
    "    if cv2.waitKey(10) & 0xFF == ord('q'):\n",
    "      break\n",
    "\n",
    "cap.release()\n",
    "cv2.destroyAllWindows()"
   ]
  },
  {
   "cell_type": "code",
   "execution_count": null,
   "metadata": {},
   "outputs": [],
   "source": []
  }
 ],
 "metadata": {
  "kernelspec": {
   "display_name": "Python 3",
   "language": "python",
   "name": "python3"
  },
  "language_info": {
   "codemirror_mode": {
    "name": "ipython",
    "version": 3
   },
   "file_extension": ".py",
   "mimetype": "text/x-python",
   "name": "python",
   "nbconvert_exporter": "python",
   "pygments_lexer": "ipython3",
   "version": "3.11.4"
  }
 },
 "nbformat": 4,
 "nbformat_minor": 2
}
